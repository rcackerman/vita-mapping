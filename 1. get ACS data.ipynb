{
 "cells": [
  {
   "cell_type": "code",
   "execution_count": 1,
   "id": "edaebb42",
   "metadata": {},
   "outputs": [],
   "source": [
    "import pandas as pd\n",
    "import configparser\n",
    "from census import Census"
   ]
  },
  {
   "cell_type": "code",
   "execution_count": 2,
   "id": "a8d56fbe",
   "metadata": {},
   "outputs": [],
   "source": [
    "# Getting the API key\n",
    "parser = configparser.ConfigParser()\n",
    "parser.read('.env')\n",
    "CENSUS_API_KEY = parser['GENERAL']['CENSUS_KEY']"
   ]
  },
  {
   "cell_type": "code",
   "execution_count": 3,
   "id": "d63a6209",
   "metadata": {},
   "outputs": [],
   "source": [
    "CENSUS_COLUMNS = {'B19001_001E': 'hh_income_total_estimate', 'B19001_001M': 'hh_income__total_me',\n",
    "                  'B19001_002E': 'hh_income_less_than_10000_estimate', 'B19001_002M': 'hh_income_less_than_10000_me',\n",
    "                  'B19001_003E': 'hh_income_10000_14999_estimate', 'B19001_003M': 'hh_income_10000_14999_me',\n",
    "                  'B19001_004E': 'hh_income_15000_19999_estimate', 'B19001_004M': 'hh_income_15000_19999_me',\n",
    "                  'B19001_005E': 'hh_income_20000_24999_estimate', 'B19001_005M': 'hh_income_20000_24999_me',\n",
    "                  'B19001_006E': 'hh_income_25000_29999_estimate', 'B19001_006M': 'hh_income_25000_29999_me',\n",
    "                  'B19001_007E': 'hh_income_30000_34999_estimate', 'B19001_007M': 'hh_income_30000_34999_me',\n",
    "                  'B19001_008E': 'hh_income_35000_39999_estimate', 'B19001_008M': 'hh_income_35000_39999_me',\n",
    "                  'B19001_009E': 'hh_income_40000_44999_estimate', 'B19001_009M': 'hh_income_40000_44999_me',\n",
    "                  'B19001_010E': 'hh_income_45000_49999_estimate', 'B19001_010M': 'hh_income_45000_49999_me',\n",
    "                  'B19001_011E': 'hh_income_50000_59999_estimate', 'B19001_011M': 'hh_income_50000_59999_me'\n",
    "                 }"
   ]
  },
  {
   "cell_type": "markdown",
   "id": "b53158eb",
   "metadata": {},
   "source": [
    "### Importing 2019 ACS dataset\n",
    "\n",
    "We'll use the Census API to get data for the B19001 group, which asks about household income for the last year."
   ]
  },
  {
   "cell_type": "code",
   "execution_count": 4,
   "id": "116218a5",
   "metadata": {},
   "outputs": [],
   "source": [
    "census = Census(CENSUS_API_KEY)\n",
    "acs_df = pd.DataFrame.from_records(census.acs5.get([col for col in CENSUS_COLUMNS.keys()], geo={'for': 'county:*'}))"
   ]
  },
  {
   "cell_type": "code",
   "execution_count": 5,
   "id": "b2d666cb",
   "metadata": {},
   "outputs": [],
   "source": [
    "acs_df.rename(columns=CENSUS_COLUMNS, inplace=True)\n",
    "acs_df.rename(columns={'state': 'acs_state_fips', 'county': 'acs_county_fips'}, inplace=True)"
   ]
  },
  {
   "cell_type": "code",
   "execution_count": 6,
   "id": "406b0b53",
   "metadata": {},
   "outputs": [],
   "source": [
    "acs_df['hh_income_less_than_60000'] = acs_df.hh_income_less_than_10000_estimate + \\\n",
    "                                      acs_df.hh_income_10000_14999_estimate + \\\n",
    "                                      acs_df.hh_income_15000_19999_estimate + \\\n",
    "                                      acs_df.hh_income_20000_24999_estimate + \\\n",
    "                                      acs_df.hh_income_25000_29999_estimate + \\\n",
    "                                      acs_df.hh_income_30000_34999_estimate + \\\n",
    "                                      acs_df.hh_income_35000_39999_estimate + \\\n",
    "                                      acs_df.hh_income_40000_44999_estimate + \\\n",
    "                                      acs_df.hh_income_45000_49999_estimate + \\\n",
    "                                      acs_df.hh_income_50000_59999_estimate"
   ]
  },
  {
   "cell_type": "code",
   "execution_count": 7,
   "id": "2bbac014",
   "metadata": {},
   "outputs": [],
   "source": [
    "acs_df['less_than_60000_per_capita'] = acs_df.hh_income_less_than_60000 / acs_df.hh_income_total_estimate"
   ]
  },
  {
   "cell_type": "code",
   "execution_count": 8,
   "id": "0a21f4c3",
   "metadata": {},
   "outputs": [],
   "source": [
    "# this is a really ugly way of rearranging the columns in acs_df so that state and county are first\n",
    "acs_df = acs_df[[item for sublist in [['acs_state_fips', 'acs_county_fips'], [c for c in CENSUS_COLUMNS.values()]] for item in sublist]].copy()"
   ]
  },
  {
   "cell_type": "code",
   "execution_count": 9,
   "id": "3fbce851",
   "metadata": {},
   "outputs": [],
   "source": [
    "acs_df.to_csv(\"./data/acs_household_income_county.csv\", index=True)"
   ]
  }
 ],
 "metadata": {
  "kernelspec": {
   "display_name": "Python 3 (ipykernel)",
   "language": "python",
   "name": "python3"
  },
  "language_info": {
   "codemirror_mode": {
    "name": "ipython",
    "version": 3
   },
   "file_extension": ".py",
   "mimetype": "text/x-python",
   "name": "python",
   "nbconvert_exporter": "python",
   "pygments_lexer": "ipython3",
   "version": "3.9.10"
  }
 },
 "nbformat": 4,
 "nbformat_minor": 5
}
