{
 "cells": [
  {
   "cell_type": "code",
   "execution_count": 1,
   "id": "edaebb42",
   "metadata": {},
   "outputs": [],
   "source": [
    "import pandas as pd\n",
    "import configparser\n",
    "from census import Census"
   ]
  },
  {
   "cell_type": "code",
   "execution_count": 2,
   "id": "a8d56fbe",
   "metadata": {},
   "outputs": [],
   "source": [
    "# Getting the API key\n",
    "parser = configparser.ConfigParser()\n",
    "parser.read('.env')\n",
    "CENSUS_API_KEY = parser['GENERAL']['CENSUS_KEY']"
   ]
  },
  {
   "cell_type": "code",
   "execution_count": 3,
   "id": "d63a6209",
   "metadata": {},
   "outputs": [],
   "source": [
    "CENSUS_COLUMNS = {'NAME': 'name', 'B19001_001E': 'hh_income_total_estimate', 'B19001_001M': 'hh_income__total_me',\n",
    "                  'B19001_002E': 'hh_income_less_than_10000_estimate', 'B19001_002M': 'hh_income_less_than_10000_me',\n",
    "                  'B19001_003E': 'hh_income_10000_14999_estimate', 'B19001_003M': 'hh_income_10000_14999_me',\n",
    "                  'B19001_004E': 'hh_income_15000_19999_estimate', 'B19001_004M': 'hh_income_15000_19999_me',\n",
    "                  'B19001_005E': 'hh_income_20000_24999_estimate', 'B19001_005M': 'hh_income_20000_24999_me',\n",
    "                  'B19001_006E': 'hh_income_25000_29999_estimate', 'B19001_006M': 'hh_income_25000_29999_me',\n",
    "                  'B19001_007E': 'hh_income_30000_34999_estimate', 'B19001_007M': 'hh_income_30000_34999_me',\n",
    "                  'B19001_008E': 'hh_income_35000_39999_estimate', 'B19001_008M': 'hh_income_35000_39999_me',\n",
    "                  'B19001_009E': 'hh_income_40000_44999_estimate', 'B19001_009M': 'hh_income_40000_44999_me',\n",
    "                  'B19001_010E': 'hh_income_45000_49999_estimate', 'B19001_010M': 'hh_income_45000_49999_me',\n",
    "                  'B19001_011E': 'hh_income_50000_59999_estimate', 'B19001_011M': 'hh_income_50000_59999_me'\n",
    "                 }"
   ]
  },
  {
   "cell_type": "markdown",
   "id": "b53158eb",
   "metadata": {},
   "source": [
    "### Importing 2019 ACS dataset\n",
    "\n",
    "We'll use the Census API to get data for the B19001 group, which asks about household income for the last year."
   ]
  },
  {
   "cell_type": "code",
   "execution_count": 4,
   "id": "116218a5",
   "metadata": {},
   "outputs": [],
   "source": [
    "census = Census(CENSUS_API_KEY)\n",
    "acs_df = pd.DataFrame.from_records(census.acs5.get([col for col in CENSUS_COLUMNS.keys()], geo={'for': 'county:*'}))"
   ]
  },
  {
   "cell_type": "code",
   "execution_count": 5,
   "id": "b2d666cb",
   "metadata": {},
   "outputs": [],
   "source": [
    "acs_df.rename(columns=CENSUS_COLUMNS, inplace=True)\n",
    "acs_df.rename(columns={'state': 'acs_state_fips', 'county': 'acs_county_fips'}, inplace=True)"
   ]
  },
  {
   "cell_type": "code",
   "execution_count": 6,
   "id": "406b0b53",
   "metadata": {},
   "outputs": [],
   "source": [
    "acs_df['hh_income_less_than_60000'] = acs_df.hh_income_less_than_10000_estimate + \\\n",
    "                                      acs_df.hh_income_10000_14999_estimate + \\\n",
    "                                      acs_df.hh_income_15000_19999_estimate + \\\n",
    "                                      acs_df.hh_income_20000_24999_estimate + \\\n",
    "                                      acs_df.hh_income_25000_29999_estimate + \\\n",
    "                                      acs_df.hh_income_30000_34999_estimate + \\\n",
    "                                      acs_df.hh_income_35000_39999_estimate + \\\n",
    "                                      acs_df.hh_income_40000_44999_estimate + \\\n",
    "                                      acs_df.hh_income_45000_49999_estimate + \\\n",
    "                                      acs_df.hh_income_50000_59999_estimate"
   ]
  },
  {
   "cell_type": "code",
   "execution_count": 7,
   "id": "2bbac014",
   "metadata": {},
   "outputs": [],
   "source": [
    "acs_df['less_than_60000_per_capita'] = acs_df.hh_income_less_than_60000 / acs_df.hh_income_total_estimate"
   ]
  },
  {
   "cell_type": "code",
   "execution_count": 8,
   "id": "b180a1c0",
   "metadata": {},
   "outputs": [],
   "source": [
    "acs_df[['county_name', 'state_name']] = acs_df['name'].str.split(', ', expand=True)"
   ]
  },
  {
   "cell_type": "code",
   "execution_count": 9,
   "id": "0a21f4c3",
   "metadata": {},
   "outputs": [],
   "source": [
    "acs_df = acs_df[\n",
    "    ['acs_state_fips', 'acs_county_fips',\n",
    "     'county_name', 'state_name',\n",
    "     'hh_income_less_than_60000', 'less_than_60000_per_capita', 'hh_income_total_estimate']\n",
    "].copy()"
   ]
  },
  {
   "cell_type": "markdown",
   "id": "2c3b9eb8",
   "metadata": {},
   "source": [
    "### Calculated Fields\n",
    "\n",
    "We'll use these in the Tableau map."
   ]
  },
  {
   "cell_type": "code",
   "execution_count": 10,
   "id": "d8c156f6",
   "metadata": {},
   "outputs": [],
   "source": [
    "acs_df['Statewide Number of Households Answering Income Questions'] = \\\n",
    "    acs_df.groupby('acs_state_fips')['hh_income_total_estimate'].transform('sum')"
   ]
  },
  {
   "cell_type": "code",
   "execution_count": 12,
   "id": "5665e7e0",
   "metadata": {},
   "outputs": [],
   "source": [
    "acs_df['quartile1'] = acs_df.less_than_60000_per_capita.quantile(.25)\n",
    "acs_df['quartile2'] = acs_df.less_than_60000_per_capita.quantile(.5)\n",
    "acs_df['quartile3'] = acs_df.less_than_60000_per_capita.quantile(.75)\n",
    "\n",
    "def fill_bins(row):\n",
    "    if (row.less_than_60000_per_capita < row.quartile1):\n",
    "        return('less than {percentage}'.format(percentage=format(row.quartile1, '.0%')))\n",
    "    elif (row.less_than_60000_per_capita >= row.quartile1) & (row.less_than_60000_per_capita < row.quartile2):\n",
    "        return('between {pct1} and {pct2}'.format(pct1=format(row.quartile1, '.0%'), pct2=format(row.quartile2, '.0%')))\n",
    "    elif (row.less_than_60000_per_capita >= row.quartile2) & (row.less_than_60000_per_capita < row.quartile3):\n",
    "        return('between {pct1} and {pct2}'.format(pct1=format(row.quartile2, '.0%'), pct2=format(row.quartile3, '.0%')))\n",
    "    else:\n",
    "        return('more than {percentage}'.format(percentage=format(row.quartile3, '.0%')))\n",
    "\n",
    "acs_df['Percent of Households Making Under 60K Annually'] = acs_df.apply(lambda row: fill_bins(row), axis=1)\n",
    "acs_df.drop(columns=['quartile1', 'quartile2', 'quartile3'], inplace=True)"
   ]
  },
  {
   "cell_type": "code",
   "execution_count": 13,
   "id": "4a015bdb",
   "metadata": {},
   "outputs": [],
   "source": [
    "acs_df['Full FIPS Code'] = acs_df['acs_state_fips'].str.zfill(width=2) + acs_df['acs_county_fips'].str.zfill(width=3)"
   ]
  },
  {
   "cell_type": "code",
   "execution_count": 14,
   "id": "3fbce851",
   "metadata": {},
   "outputs": [],
   "source": [
    "import csv\n",
    "acs_df.to_csv(\"./data/acs_household_income_county.csv\", index=False, quoting=csv.QUOTE_NONNUMERIC)"
   ]
  }
 ],
 "metadata": {
  "kernelspec": {
   "display_name": "Python 3 (ipykernel)",
   "language": "python",
   "name": "python3"
  },
  "language_info": {
   "codemirror_mode": {
    "name": "ipython",
    "version": 3
   },
   "file_extension": ".py",
   "mimetype": "text/x-python",
   "name": "python",
   "nbconvert_exporter": "python",
   "pygments_lexer": "ipython3",
   "version": "3.9.10"
  }
 },
 "nbformat": 4,
 "nbformat_minor": 5
}
