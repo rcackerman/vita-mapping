{
 "cells": [
  {
   "cell_type": "code",
   "execution_count": 2,
   "id": "e80accde",
   "metadata": {},
   "outputs": [],
   "source": [
    "import pandas as pd\n",
    "import geopandas"
   ]
  },
  {
   "cell_type": "markdown",
   "id": "b989f971",
   "metadata": {},
   "source": [
    "## Import zipcodes shapefile\n",
    "\n",
    "This will tell plotting software how to map our data."
   ]
  },
  {
   "cell_type": "code",
   "execution_count": 3,
   "id": "c15ff742",
   "metadata": {},
   "outputs": [],
   "source": [
    "zips_gdf = geopandas.read_file(\"cb_2019_us_zcta510_500k/cb_2019_us_zcta510_500k.shp\", dtype={\"ZCTA5CE10\": object})"
   ]
  },
  {
   "cell_type": "code",
   "execution_count": 4,
   "id": "e9b0871c",
   "metadata": {},
   "outputs": [
    {
     "data": {
      "text/html": [
       "<div>\n",
       "<style scoped>\n",
       "    .dataframe tbody tr th:only-of-type {\n",
       "        vertical-align: middle;\n",
       "    }\n",
       "\n",
       "    .dataframe tbody tr th {\n",
       "        vertical-align: top;\n",
       "    }\n",
       "\n",
       "    .dataframe thead th {\n",
       "        text-align: right;\n",
       "    }\n",
       "</style>\n",
       "<table border=\"1\" class=\"dataframe\">\n",
       "  <thead>\n",
       "    <tr style=\"text-align: right;\">\n",
       "      <th></th>\n",
       "      <th>ZCTA5CE10</th>\n",
       "      <th>AFFGEOID10</th>\n",
       "      <th>GEOID10</th>\n",
       "      <th>ALAND10</th>\n",
       "      <th>AWATER10</th>\n",
       "      <th>geometry</th>\n",
       "    </tr>\n",
       "  </thead>\n",
       "  <tbody>\n",
       "    <tr>\n",
       "      <th>0</th>\n",
       "      <td>35586</td>\n",
       "      <td>8600000US35586</td>\n",
       "      <td>35586</td>\n",
       "      <td>472581657</td>\n",
       "      <td>892816</td>\n",
       "      <td>MULTIPOLYGON (((-88.00160 33.81101, -88.00258 ...</td>\n",
       "    </tr>\n",
       "    <tr>\n",
       "      <th>1</th>\n",
       "      <td>72454</td>\n",
       "      <td>8600000US72454</td>\n",
       "      <td>72454</td>\n",
       "      <td>263532032</td>\n",
       "      <td>775633</td>\n",
       "      <td>POLYGON ((-90.41711 36.36553, -90.41686 36.390...</td>\n",
       "    </tr>\n",
       "    <tr>\n",
       "      <th>2</th>\n",
       "      <td>71653</td>\n",
       "      <td>8600000US71653</td>\n",
       "      <td>71653</td>\n",
       "      <td>817752215</td>\n",
       "      <td>89308151</td>\n",
       "      <td>POLYGON ((-91.45936 33.30273, -91.45758 33.381...</td>\n",
       "    </tr>\n",
       "    <tr>\n",
       "      <th>3</th>\n",
       "      <td>19963</td>\n",
       "      <td>8600000US19963</td>\n",
       "      <td>19963</td>\n",
       "      <td>276290156</td>\n",
       "      <td>21123546</td>\n",
       "      <td>POLYGON ((-75.50557 38.92751, -75.50313 38.927...</td>\n",
       "    </tr>\n",
       "    <tr>\n",
       "      <th>4</th>\n",
       "      <td>81303</td>\n",
       "      <td>8600000US81303</td>\n",
       "      <td>81303</td>\n",
       "      <td>557450510</td>\n",
       "      <td>6445737</td>\n",
       "      <td>POLYGON ((-108.04031 37.09764, -108.03896 37.1...</td>\n",
       "    </tr>\n",
       "  </tbody>\n",
       "</table>\n",
       "</div>"
      ],
      "text/plain": [
       "  ZCTA5CE10      AFFGEOID10 GEOID10    ALAND10  AWATER10  \\\n",
       "0     35586  8600000US35586   35586  472581657    892816   \n",
       "1     72454  8600000US72454   72454  263532032    775633   \n",
       "2     71653  8600000US71653   71653  817752215  89308151   \n",
       "3     19963  8600000US19963   19963  276290156  21123546   \n",
       "4     81303  8600000US81303   81303  557450510   6445737   \n",
       "\n",
       "                                            geometry  \n",
       "0  MULTIPOLYGON (((-88.00160 33.81101, -88.00258 ...  \n",
       "1  POLYGON ((-90.41711 36.36553, -90.41686 36.390...  \n",
       "2  POLYGON ((-91.45936 33.30273, -91.45758 33.381...  \n",
       "3  POLYGON ((-75.50557 38.92751, -75.50313 38.927...  \n",
       "4  POLYGON ((-108.04031 37.09764, -108.03896 37.1...  "
      ]
     },
     "execution_count": 4,
     "metadata": {},
     "output_type": "execute_result"
    }
   ],
   "source": [
    "zips_gdf.head()"
   ]
  },
  {
   "cell_type": "markdown",
   "id": "eaaac444",
   "metadata": {},
   "source": [
    "Making sure the zipcodes are unique (if there are duplicates, `freq` below will be more than 1)."
   ]
  },
  {
   "cell_type": "code",
   "execution_count": 5,
   "id": "031d11de",
   "metadata": {},
   "outputs": [
    {
     "data": {
      "text/plain": [
       "count     33144\n",
       "unique    33144\n",
       "top       35586\n",
       "freq          1\n",
       "Name: ZCTA5CE10, dtype: object"
      ]
     },
     "execution_count": 5,
     "metadata": {},
     "output_type": "execute_result"
    }
   ],
   "source": [
    "zips_gdf.ZCTA5CE10.describe()"
   ]
  },
  {
   "cell_type": "markdown",
   "id": "39418c63",
   "metadata": {},
   "source": [
    "## Importing ACS data\n",
    "\n",
    "This has data about income, aggregated to the zipcode level by the Census Bureau."
   ]
  },
  {
   "cell_type": "code",
   "execution_count": 8,
   "id": "decf5f30",
   "metadata": {},
   "outputs": [],
   "source": [
    "acs2019 = pd.read_csv(\"data/ACS 2019_income_data_zip_accessible.csv\", dtype={'ZIP': object}) #enforce same data type as shapefile"
   ]
  },
  {
   "cell_type": "markdown",
   "id": "a9e4fc1f",
   "metadata": {},
   "source": [
    "Making sure the row counts (`count`) haven't changed since we wrote the file."
   ]
  },
  {
   "cell_type": "code",
   "execution_count": 9,
   "id": "0cd8e1fb",
   "metadata": {},
   "outputs": [
    {
     "data": {
      "text/html": [
       "<div>\n",
       "<style scoped>\n",
       "    .dataframe tbody tr th:only-of-type {\n",
       "        vertical-align: middle;\n",
       "    }\n",
       "\n",
       "    .dataframe tbody tr th {\n",
       "        vertical-align: top;\n",
       "    }\n",
       "\n",
       "    .dataframe thead th {\n",
       "        text-align: right;\n",
       "    }\n",
       "</style>\n",
       "<table border=\"1\" class=\"dataframe\">\n",
       "  <thead>\n",
       "    <tr style=\"text-align: right;\">\n",
       "      <th></th>\n",
       "      <th>total</th>\n",
       "      <th>me_total</th>\n",
       "      <th>vita_eligible</th>\n",
       "      <th>vita_per_capita</th>\n",
       "    </tr>\n",
       "  </thead>\n",
       "  <tbody>\n",
       "    <tr>\n",
       "      <th>count</th>\n",
       "      <td>33120.000000</td>\n",
       "      <td>33120.000000</td>\n",
       "      <td>33120.000000</td>\n",
       "      <td>32519.000000</td>\n",
       "    </tr>\n",
       "    <tr>\n",
       "      <th>mean</th>\n",
       "      <td>3681.948762</td>\n",
       "      <td>172.515821</td>\n",
       "      <td>1780.967723</td>\n",
       "      <td>0.530213</td>\n",
       "    </tr>\n",
       "    <tr>\n",
       "      <th>std</th>\n",
       "      <td>5321.903126</td>\n",
       "      <td>143.212556</td>\n",
       "      <td>2692.419914</td>\n",
       "      <td>0.179676</td>\n",
       "    </tr>\n",
       "    <tr>\n",
       "      <th>min</th>\n",
       "      <td>0.000000</td>\n",
       "      <td>2.000000</td>\n",
       "      <td>0.000000</td>\n",
       "      <td>0.000000</td>\n",
       "    </tr>\n",
       "    <tr>\n",
       "      <th>25%</th>\n",
       "      <td>271.000000</td>\n",
       "      <td>60.000000</td>\n",
       "      <td>146.000000</td>\n",
       "      <td>0.415435</td>\n",
       "    </tr>\n",
       "    <tr>\n",
       "      <th>50%</th>\n",
       "      <td>1073.000000</td>\n",
       "      <td>125.000000</td>\n",
       "      <td>542.000000</td>\n",
       "      <td>0.538738</td>\n",
       "    </tr>\n",
       "    <tr>\n",
       "      <th>75%</th>\n",
       "      <td>5061.000000</td>\n",
       "      <td>257.000000</td>\n",
       "      <td>2283.250000</td>\n",
       "      <td>0.646342</td>\n",
       "    </tr>\n",
       "    <tr>\n",
       "      <th>max</th>\n",
       "      <td>41355.000000</td>\n",
       "      <td>1092.000000</td>\n",
       "      <td>25622.000000</td>\n",
       "      <td>1.000000</td>\n",
       "    </tr>\n",
       "  </tbody>\n",
       "</table>\n",
       "</div>"
      ],
      "text/plain": [
       "              total      me_total  vita_eligible  vita_per_capita\n",
       "count  33120.000000  33120.000000   33120.000000     32519.000000\n",
       "mean    3681.948762    172.515821    1780.967723         0.530213\n",
       "std     5321.903126    143.212556    2692.419914         0.179676\n",
       "min        0.000000      2.000000       0.000000         0.000000\n",
       "25%      271.000000     60.000000     146.000000         0.415435\n",
       "50%     1073.000000    125.000000     542.000000         0.538738\n",
       "75%     5061.000000    257.000000    2283.250000         0.646342\n",
       "max    41355.000000   1092.000000   25622.000000         1.000000"
      ]
     },
     "execution_count": 9,
     "metadata": {},
     "output_type": "execute_result"
    }
   ],
   "source": [
    "acs2019.describe()"
   ]
  },
  {
   "cell_type": "markdown",
   "id": "c9702dae",
   "metadata": {},
   "source": [
    "## Merging ACS and shape data"
   ]
  },
  {
   "cell_type": "code",
   "execution_count": 10,
   "id": "7f68ac44",
   "metadata": {},
   "outputs": [],
   "source": [
    "merged = pd.merge(zips_gdf, acs2019, left_on=\"ZCTA5CE10\", right_on=\"ZIP\", how=\"outer\")"
   ]
  },
  {
   "cell_type": "markdown",
   "id": "74c9f0d4",
   "metadata": {},
   "source": [
    "Some quick data quality checks:\n",
    "\n",
    "* Are there any mismatches between the datasets?\n",
    "* Why does the shapefile have ~500 more rows than ACS?"
   ]
  },
  {
   "cell_type": "code",
   "execution_count": 12,
   "id": "50d123bb",
   "metadata": {},
   "outputs": [
    {
     "data": {
      "text/html": [
       "<div>\n",
       "<style scoped>\n",
       "    .dataframe tbody tr th:only-of-type {\n",
       "        vertical-align: middle;\n",
       "    }\n",
       "\n",
       "    .dataframe tbody tr th {\n",
       "        vertical-align: top;\n",
       "    }\n",
       "\n",
       "    .dataframe thead th {\n",
       "        text-align: right;\n",
       "    }\n",
       "</style>\n",
       "<table border=\"1\" class=\"dataframe\">\n",
       "  <thead>\n",
       "    <tr style=\"text-align: right;\">\n",
       "      <th></th>\n",
       "      <th>ZCTA5CE10</th>\n",
       "      <th>ZIP</th>\n",
       "      <th>total</th>\n",
       "    </tr>\n",
       "  </thead>\n",
       "  <tbody>\n",
       "    <tr>\n",
       "      <th>26375</th>\n",
       "      <td>00801</td>\n",
       "      <td>NaN</td>\n",
       "      <td>NaN</td>\n",
       "    </tr>\n",
       "    <tr>\n",
       "      <th>797</th>\n",
       "      <td>00802</td>\n",
       "      <td>NaN</td>\n",
       "      <td>NaN</td>\n",
       "    </tr>\n",
       "    <tr>\n",
       "      <th>8507</th>\n",
       "      <td>00820</td>\n",
       "      <td>NaN</td>\n",
       "      <td>NaN</td>\n",
       "    </tr>\n",
       "    <tr>\n",
       "      <th>10012</th>\n",
       "      <td>00823</td>\n",
       "      <td>NaN</td>\n",
       "      <td>NaN</td>\n",
       "    </tr>\n",
       "    <tr>\n",
       "      <th>4947</th>\n",
       "      <td>00824</td>\n",
       "      <td>NaN</td>\n",
       "      <td>NaN</td>\n",
       "    </tr>\n",
       "    <tr>\n",
       "      <th>1556</th>\n",
       "      <td>00830</td>\n",
       "      <td>NaN</td>\n",
       "      <td>NaN</td>\n",
       "    </tr>\n",
       "    <tr>\n",
       "      <th>8387</th>\n",
       "      <td>00831</td>\n",
       "      <td>NaN</td>\n",
       "      <td>NaN</td>\n",
       "    </tr>\n",
       "    <tr>\n",
       "      <th>29337</th>\n",
       "      <td>00840</td>\n",
       "      <td>NaN</td>\n",
       "      <td>NaN</td>\n",
       "    </tr>\n",
       "    <tr>\n",
       "      <th>29220</th>\n",
       "      <td>00841</td>\n",
       "      <td>NaN</td>\n",
       "      <td>NaN</td>\n",
       "    </tr>\n",
       "    <tr>\n",
       "      <th>2168</th>\n",
       "      <td>00850</td>\n",
       "      <td>NaN</td>\n",
       "      <td>NaN</td>\n",
       "    </tr>\n",
       "    <tr>\n",
       "      <th>25527</th>\n",
       "      <td>00851</td>\n",
       "      <td>NaN</td>\n",
       "      <td>NaN</td>\n",
       "    </tr>\n",
       "    <tr>\n",
       "      <th>8506</th>\n",
       "      <td>96799</td>\n",
       "      <td>NaN</td>\n",
       "      <td>NaN</td>\n",
       "    </tr>\n",
       "    <tr>\n",
       "      <th>29011</th>\n",
       "      <td>96910</td>\n",
       "      <td>NaN</td>\n",
       "      <td>NaN</td>\n",
       "    </tr>\n",
       "    <tr>\n",
       "      <th>29051</th>\n",
       "      <td>96913</td>\n",
       "      <td>NaN</td>\n",
       "      <td>NaN</td>\n",
       "    </tr>\n",
       "    <tr>\n",
       "      <th>8384</th>\n",
       "      <td>96915</td>\n",
       "      <td>NaN</td>\n",
       "      <td>NaN</td>\n",
       "    </tr>\n",
       "    <tr>\n",
       "      <th>1554</th>\n",
       "      <td>96916</td>\n",
       "      <td>NaN</td>\n",
       "      <td>NaN</td>\n",
       "    </tr>\n",
       "    <tr>\n",
       "      <th>29052</th>\n",
       "      <td>96917</td>\n",
       "      <td>NaN</td>\n",
       "      <td>NaN</td>\n",
       "    </tr>\n",
       "    <tr>\n",
       "      <th>8385</th>\n",
       "      <td>96921</td>\n",
       "      <td>NaN</td>\n",
       "      <td>NaN</td>\n",
       "    </tr>\n",
       "    <tr>\n",
       "      <th>17039</th>\n",
       "      <td>96928</td>\n",
       "      <td>NaN</td>\n",
       "      <td>NaN</td>\n",
       "    </tr>\n",
       "    <tr>\n",
       "      <th>29219</th>\n",
       "      <td>96929</td>\n",
       "      <td>NaN</td>\n",
       "      <td>NaN</td>\n",
       "    </tr>\n",
       "    <tr>\n",
       "      <th>8386</th>\n",
       "      <td>96932</td>\n",
       "      <td>NaN</td>\n",
       "      <td>NaN</td>\n",
       "    </tr>\n",
       "    <tr>\n",
       "      <th>8357</th>\n",
       "      <td>96950</td>\n",
       "      <td>NaN</td>\n",
       "      <td>NaN</td>\n",
       "    </tr>\n",
       "    <tr>\n",
       "      <th>10162</th>\n",
       "      <td>96951</td>\n",
       "      <td>NaN</td>\n",
       "      <td>NaN</td>\n",
       "    </tr>\n",
       "    <tr>\n",
       "      <th>9538</th>\n",
       "      <td>96952</td>\n",
       "      <td>NaN</td>\n",
       "      <td>NaN</td>\n",
       "    </tr>\n",
       "  </tbody>\n",
       "</table>\n",
       "</div>"
      ],
      "text/plain": [
       "      ZCTA5CE10  ZIP  total\n",
       "26375     00801  NaN    NaN\n",
       "797       00802  NaN    NaN\n",
       "8507      00820  NaN    NaN\n",
       "10012     00823  NaN    NaN\n",
       "4947      00824  NaN    NaN\n",
       "1556      00830  NaN    NaN\n",
       "8387      00831  NaN    NaN\n",
       "29337     00840  NaN    NaN\n",
       "29220     00841  NaN    NaN\n",
       "2168      00850  NaN    NaN\n",
       "25527     00851  NaN    NaN\n",
       "8506      96799  NaN    NaN\n",
       "29011     96910  NaN    NaN\n",
       "29051     96913  NaN    NaN\n",
       "8384      96915  NaN    NaN\n",
       "1554      96916  NaN    NaN\n",
       "29052     96917  NaN    NaN\n",
       "8385      96921  NaN    NaN\n",
       "17039     96928  NaN    NaN\n",
       "29219     96929  NaN    NaN\n",
       "8386      96932  NaN    NaN\n",
       "8357      96950  NaN    NaN\n",
       "10162     96951  NaN    NaN\n",
       "9538      96952  NaN    NaN"
      ]
     },
     "execution_count": 12,
     "metadata": {},
     "output_type": "execute_result"
    }
   ],
   "source": [
    "merged[((pd.isna(merged[\"ZIP\"])) & ~(pd.isna(merged[\"ZCTA5CE10\"])))][[\"ZCTA5CE10\", \"ZIP\", \"total\"]].sort_values(\"ZCTA5CE10\")"
   ]
  },
  {
   "cell_type": "code",
   "execution_count": 13,
   "id": "9ac9d3eb",
   "metadata": {},
   "outputs": [
    {
     "data": {
      "text/html": [
       "<div>\n",
       "<style scoped>\n",
       "    .dataframe tbody tr th:only-of-type {\n",
       "        vertical-align: middle;\n",
       "    }\n",
       "\n",
       "    .dataframe tbody tr th {\n",
       "        vertical-align: top;\n",
       "    }\n",
       "\n",
       "    .dataframe thead th {\n",
       "        text-align: right;\n",
       "    }\n",
       "</style>\n",
       "<table border=\"1\" class=\"dataframe\">\n",
       "  <thead>\n",
       "    <tr style=\"text-align: right;\">\n",
       "      <th></th>\n",
       "      <th>ZCTA5CE10</th>\n",
       "      <th>ZIP</th>\n",
       "      <th>total</th>\n",
       "    </tr>\n",
       "  </thead>\n",
       "  <tbody>\n",
       "  </tbody>\n",
       "</table>\n",
       "</div>"
      ],
      "text/plain": [
       "Empty DataFrame\n",
       "Columns: [ZCTA5CE10, ZIP, total]\n",
       "Index: []"
      ]
     },
     "execution_count": 13,
     "metadata": {},
     "output_type": "execute_result"
    }
   ],
   "source": [
    "merged[(~(pd.isna(merged[\"ZIP\"])) & (pd.isna(merged[\"ZCTA5CE10\"])))][[\"ZCTA5CE10\", \"ZIP\", \"total\"]].sort_values(\"ZIP\")"
   ]
  },
  {
   "cell_type": "markdown",
   "id": "183c954d",
   "metadata": {},
   "source": [
    "The ACS income data doesn't have estimates for every zip code the Census knew about, but it's missing less than 25 zip codes. More importantly, when we map this, we don't have any estimates without a corresponding shape. So all of the data we care about will end up on a map."
   ]
  },
  {
   "cell_type": "markdown",
   "id": "93fb0a41",
   "metadata": {},
   "source": [
    "## Plotting\n",
    "\n",
    "Some quick plots to make sure merging happened correctly."
   ]
  },
  {
   "cell_type": "code",
   "execution_count": 14,
   "id": "2c2b08fa",
   "metadata": {},
   "outputs": [],
   "source": [
    "import matplotlib"
   ]
  },
  {
   "cell_type": "code",
   "execution_count": 16,
   "id": "632a2c50",
   "metadata": {},
   "outputs": [
    {
     "data": {
      "text/html": [
       "<div>\n",
       "<style scoped>\n",
       "    .dataframe tbody tr th:only-of-type {\n",
       "        vertical-align: middle;\n",
       "    }\n",
       "\n",
       "    .dataframe tbody tr th {\n",
       "        vertical-align: top;\n",
       "    }\n",
       "\n",
       "    .dataframe thead th {\n",
       "        text-align: right;\n",
       "    }\n",
       "</style>\n",
       "<table border=\"1\" class=\"dataframe\">\n",
       "  <thead>\n",
       "    <tr style=\"text-align: right;\">\n",
       "      <th></th>\n",
       "      <th>vita_eligible</th>\n",
       "      <th>total</th>\n",
       "    </tr>\n",
       "  </thead>\n",
       "  <tbody>\n",
       "    <tr>\n",
       "      <th>count</th>\n",
       "      <td>33120.000000</td>\n",
       "      <td>33120.000000</td>\n",
       "    </tr>\n",
       "    <tr>\n",
       "      <th>mean</th>\n",
       "      <td>1780.967723</td>\n",
       "      <td>3681.948762</td>\n",
       "    </tr>\n",
       "    <tr>\n",
       "      <th>std</th>\n",
       "      <td>2692.419914</td>\n",
       "      <td>5321.903126</td>\n",
       "    </tr>\n",
       "    <tr>\n",
       "      <th>min</th>\n",
       "      <td>0.000000</td>\n",
       "      <td>0.000000</td>\n",
       "    </tr>\n",
       "    <tr>\n",
       "      <th>25%</th>\n",
       "      <td>146.000000</td>\n",
       "      <td>271.000000</td>\n",
       "    </tr>\n",
       "    <tr>\n",
       "      <th>50%</th>\n",
       "      <td>542.000000</td>\n",
       "      <td>1073.000000</td>\n",
       "    </tr>\n",
       "    <tr>\n",
       "      <th>75%</th>\n",
       "      <td>2283.250000</td>\n",
       "      <td>5061.000000</td>\n",
       "    </tr>\n",
       "    <tr>\n",
       "      <th>max</th>\n",
       "      <td>25622.000000</td>\n",
       "      <td>41355.000000</td>\n",
       "    </tr>\n",
       "  </tbody>\n",
       "</table>\n",
       "</div>"
      ],
      "text/plain": [
       "       vita_eligible         total\n",
       "count   33120.000000  33120.000000\n",
       "mean     1780.967723   3681.948762\n",
       "std      2692.419914   5321.903126\n",
       "min         0.000000      0.000000\n",
       "25%       146.000000    271.000000\n",
       "50%       542.000000   1073.000000\n",
       "75%      2283.250000   5061.000000\n",
       "max     25622.000000  41355.000000"
      ]
     },
     "execution_count": 16,
     "metadata": {},
     "output_type": "execute_result"
    }
   ],
   "source": [
    "merged[[\"vita_eligible\", \"total\"]].describe()"
   ]
  },
  {
   "cell_type": "code",
   "execution_count": 18,
   "id": "eb5fe68b",
   "metadata": {},
   "outputs": [
    {
     "data": {
      "text/plain": [
       "count    32519.000000\n",
       "mean         0.530213\n",
       "std          0.179676\n",
       "min          0.000000\n",
       "25%          0.415435\n",
       "50%          0.538738\n",
       "75%          0.646342\n",
       "max          1.000000\n",
       "Name: vita_per_capita, dtype: float64"
      ]
     },
     "execution_count": 18,
     "metadata": {},
     "output_type": "execute_result"
    }
   ],
   "source": [
    "merged[\"vita_per_capita\"].describe()"
   ]
  },
  {
   "cell_type": "code",
   "execution_count": 19,
   "id": "4c974b22",
   "metadata": {},
   "outputs": [
    {
     "data": {
      "text/html": [
       "<div>\n",
       "<style scoped>\n",
       "    .dataframe tbody tr th:only-of-type {\n",
       "        vertical-align: middle;\n",
       "    }\n",
       "\n",
       "    .dataframe tbody tr th {\n",
       "        vertical-align: top;\n",
       "    }\n",
       "\n",
       "    .dataframe thead th {\n",
       "        text-align: right;\n",
       "    }\n",
       "</style>\n",
       "<table border=\"1\" class=\"dataframe\">\n",
       "  <thead>\n",
       "    <tr style=\"text-align: right;\">\n",
       "      <th></th>\n",
       "      <th>ZCTA5CE10</th>\n",
       "      <th>AFFGEOID10</th>\n",
       "      <th>GEOID10</th>\n",
       "      <th>ALAND10</th>\n",
       "      <th>AWATER10</th>\n",
       "      <th>geometry</th>\n",
       "      <th>ZIP</th>\n",
       "      <th>total</th>\n",
       "      <th>me_total</th>\n",
       "      <th>vita_eligible</th>\n",
       "      <th>vita_per_capita</th>\n",
       "      <th>id</th>\n",
       "    </tr>\n",
       "  </thead>\n",
       "  <tbody>\n",
       "  </tbody>\n",
       "</table>\n",
       "</div>"
      ],
      "text/plain": [
       "Empty GeoDataFrame\n",
       "Columns: [ZCTA5CE10, AFFGEOID10, GEOID10, ALAND10, AWATER10, geometry, ZIP, total, me_total, vita_eligible, vita_per_capita, id]\n",
       "Index: []"
      ]
     },
     "execution_count": 19,
     "metadata": {},
     "output_type": "execute_result"
    }
   ],
   "source": [
    "merged[((merged[\"total\"] > 0) & (pd.isna(merged[\"vita_per_capita\"])))]"
   ]
  },
  {
   "cell_type": "code",
   "execution_count": 21,
   "id": "a23b2e15",
   "metadata": {},
   "outputs": [],
   "source": [
    "merged[\"vita_per_capita\"] = merged[\"vita_per_capita\"].fillna(0)"
   ]
  },
  {
   "cell_type": "code",
   "execution_count": 27,
   "id": "8b8d1d33",
   "metadata": {},
   "outputs": [],
   "source": [
    "merged.explore(column=\"vita_eligible\")"
   ]
  },
  {
   "cell_type": "code",
   "execution_count": 23,
   "id": "fda6ebb6",
   "metadata": {},
   "outputs": [
    {
     "data": {
      "text/plain": [
       "<AxesSubplot:>"
      ]
     },
     "execution_count": 23,
     "metadata": {},
     "output_type": "execute_result"
    },
    {
     "data": {
      "image/png": "[encoded data removed]",
      "text/plain": [
       "<Figure size 432x288 with 1 Axes>"
      ]
     },
     "metadata": {
      "needs_background": "light"
     },
     "output_type": "display_data"
    }
   ],
   "source": [
    "merged.explore(column=\"vita_per_capita\")"
   ]
  },
  {
   "cell_type": "code",
   "execution_count": null,
   "id": "d874f494",
   "metadata": {},
   "outputs": [],
   "source": [
    "# ESRI shapefiles have col max size of 10 chars\n",
    "# Renaming columns we care about\n",
    "merged.rename(columns={\n",
    "    'ZCTA5CE10': 'c_zipid',\n",
    "    'AFFGEOID10': 'c_ageoid',\n",
    "    'GEOID10': 'c_geoid',\n",
    "    'ALAND10': 'c_land',\n",
    "    'AWATER10': 'c_water',\n",
    "    'Estimate - Total:': 'acs_total',\n",
    "    'total_VITA_eligible': 'vita_total',\n",
    "    'VITA_eligible_per_capita': 'vita_pc'\n",
    "}, inplace=True)"
   ]
  },
  {
   "cell_type": "code",
   "execution_count": null,
   "id": "5a9cfc63",
   "metadata": {},
   "outputs": [],
   "source": [
    "merged[[\"c_zipid\", \"c_ageoid\", \"c_geoid\", \"geometry\", \"acs_total\", \"vita_total\", \"vita_pc\"]].to_file(\"ACS_VITA_eligible.shp\")"
   ]
  },
  {
   "cell_type": "code",
   "execution_count": null,
   "id": "dfc5b888",
   "metadata": {},
   "outputs": [],
   "source": [
    "merged.columns"
   ]
  },
  {
   "cell_type": "code",
   "execution_count": null,
   "id": "5a078fa3",
   "metadata": {},
   "outputs": [],
   "source": []
  }
 ],
 "metadata": {
  "kernelspec": {
   "display_name": "Python 3 (ipykernel)",
   "language": "python",
   "name": "python3"
  },
  "language_info": {
   "codemirror_mode": {
    "name": "ipython",
    "version": 3
   },
   "file_extension": ".py",
   "mimetype": "text/x-python",
   "name": "python",
   "nbconvert_exporter": "python",
   "pygments_lexer": "ipython3",
   "version": "3.9.10"
  }
 },
 "nbformat": 4,
 "nbformat_minor": 5
}
