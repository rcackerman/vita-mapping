{
 "cells": [
  {
   "cell_type": "code",
   "execution_count": 10,
   "id": "0c4cf266",
   "metadata": {},
   "outputs": [],
   "source": [
    "import pandas as pd"
   ]
  },
  {
   "cell_type": "markdown",
   "id": "566e17e9",
   "metadata": {},
   "source": [
    "## Importing MFT data"
   ]
  },
  {
   "cell_type": "code",
   "execution_count": 11,
   "id": "ba333ce2",
   "metadata": {},
   "outputs": [],
   "source": [
    "raw_mft_df = pd.read_excel(\"./data/MFT Returns by Zip 2019.xlsx\", dtype={'Zip': object})"
   ]
  },
  {
   "cell_type": "code",
   "execution_count": 12,
   "id": "07b0129a",
   "metadata": {
    "scrolled": true
   },
   "outputs": [
    {
     "data": {
      "text/plain": [
       "Index(['Zip', 'City', 'State', 'County', 'Org ID', 'United Way',\n",
       "       '#e-filed returns', '#EITC returns', 'Average EITC Amount',\n",
       "       'Average Refund Amount', 'Average Age'],\n",
       "      dtype='object')"
      ]
     },
     "execution_count": 12,
     "metadata": {},
     "output_type": "execute_result"
    }
   ],
   "source": [
    "raw_mft_df.columns"
   ]
  },
  {
   "cell_type": "markdown",
   "id": "ddfb95b3",
   "metadata": {},
   "source": [
    "#### Dropping columns with sensistive data"
   ]
  },
  {
   "cell_type": "code",
   "execution_count": 13,
   "id": "0bd9c48c",
   "metadata": {},
   "outputs": [],
   "source": [
    "raw_mft_df.drop(axis='columns',\n",
    "                labels=['#EITC returns', 'Average EITC Amount', 'Average Refund Amount', 'Average Age'],\n",
    "                inplace=True)"
   ]
  },
  {
   "cell_type": "markdown",
   "id": "374f344e",
   "metadata": {},
   "source": [
    "#### Dropping unprocessable rows"
   ]
  },
  {
   "cell_type": "code",
   "execution_count": 14,
   "id": "7c8d1dff",
   "metadata": {},
   "outputs": [
    {
     "name": "stdout",
     "output_type": "stream",
     "text": [
      "3619\n",
      "125545\n"
     ]
    }
   ],
   "source": [
    "print(raw_mft_df[pd.isnull(raw_mft_df['United Way'])].size); print(raw_mft_df.size)"
   ]
  },
  {
   "cell_type": "markdown",
   "id": "9186514f",
   "metadata": {},
   "source": [
    "Dropping any row that has a letter in the zip code or doesn't have an associated United Way. Because we will be filling unmatched zip codes with the closest zip code served by the same United Way, we can't use rows without a United Way. Luckily, the rows without a United Way appear to mostly be the rows with nonexistent or malformed zip codes.\n",
    "\n",
    "This removes 3,619 rows from the data set, out of 125,545 total rows."
   ]
  },
  {
   "cell_type": "code",
   "execution_count": 15,
   "id": "8a7daeab",
   "metadata": {},
   "outputs": [],
   "source": [
    "mft_df = raw_mft_df[~raw_mft_df.Zip.str.match(\"[a-zA-Z]\") & ~pd.isnull(raw_mft_df['United Way'])].copy()"
   ]
  },
  {
   "cell_type": "code",
   "execution_count": 17,
   "id": "e1117e5f",
   "metadata": {},
   "outputs": [],
   "source": [
    "mft_df.to_csv(\"./data/mft_returns_2019.csv\", index=False)"
   ]
  },
  {
   "cell_type": "code",
   "execution_count": 8,
   "id": "0f67f8e8",
   "metadata": {
    "scrolled": true
   },
   "outputs": [
    {
     "data": {
      "text/html": [
       "<div>\n",
       "<style scoped>\n",
       "    .dataframe tbody tr th:only-of-type {\n",
       "        vertical-align: middle;\n",
       "    }\n",
       "\n",
       "    .dataframe tbody tr th {\n",
       "        vertical-align: top;\n",
       "    }\n",
       "\n",
       "    .dataframe thead th {\n",
       "        text-align: right;\n",
       "    }\n",
       "</style>\n",
       "<table border=\"1\" class=\"dataframe\">\n",
       "  <thead>\n",
       "    <tr style=\"text-align: right;\">\n",
       "      <th></th>\n",
       "      <th>Zip</th>\n",
       "      <th>City</th>\n",
       "      <th>State</th>\n",
       "      <th>County</th>\n",
       "      <th>Org ID</th>\n",
       "      <th>United Way</th>\n",
       "      <th>#e-filed returns</th>\n",
       "    </tr>\n",
       "  </thead>\n",
       "  <tbody>\n",
       "    <tr>\n",
       "      <th>9659</th>\n",
       "      <td>48375</td>\n",
       "      <td>Novi</td>\n",
       "      <td>MI</td>\n",
       "      <td>Oakland</td>\n",
       "      <td>24125F</td>\n",
       "      <td>United Way for Southeastern Michigan</td>\n",
       "      <td>8.0</td>\n",
       "    </tr>\n",
       "    <tr>\n",
       "      <th>9272</th>\n",
       "      <td>46978</td>\n",
       "      <td>Royal Center</td>\n",
       "      <td>IN</td>\n",
       "      <td>Cass</td>\n",
       "      <td>16450F</td>\n",
       "      <td>United Way of Cass County, Inc.</td>\n",
       "      <td>4.0</td>\n",
       "    </tr>\n",
       "    <tr>\n",
       "      <th>15717</th>\n",
       "      <td>89436</td>\n",
       "      <td>Sparks</td>\n",
       "      <td>NV</td>\n",
       "      <td>Washoe</td>\n",
       "      <td>30020F</td>\n",
       "      <td>United Way of Northern Nevada and the Sierra</td>\n",
       "      <td>4.0</td>\n",
       "    </tr>\n",
       "    <tr>\n",
       "      <th>3897</th>\n",
       "      <td>20019</td>\n",
       "      <td>Washington</td>\n",
       "      <td>DC</td>\n",
       "      <td>District of Columbia</td>\n",
       "      <td>10001F</td>\n",
       "      <td>United Way of the National Capital Area</td>\n",
       "      <td>29.0</td>\n",
       "    </tr>\n",
       "    <tr>\n",
       "      <th>11109</th>\n",
       "      <td>56501</td>\n",
       "      <td>Detroit Lakes</td>\n",
       "      <td>MN</td>\n",
       "      <td>Becker</td>\n",
       "      <td>25180F</td>\n",
       "      <td>United Way of Becker County</td>\n",
       "      <td>8.0</td>\n",
       "    </tr>\n",
       "    <tr>\n",
       "      <th>10641</th>\n",
       "      <td>54623</td>\n",
       "      <td>Coon Valley</td>\n",
       "      <td>WI</td>\n",
       "      <td>Vernon</td>\n",
       "      <td>53195U</td>\n",
       "      <td>Great Rivers United Way, Inc.</td>\n",
       "      <td>5.0</td>\n",
       "    </tr>\n",
       "    <tr>\n",
       "      <th>2776</th>\n",
       "      <td>14533</td>\n",
       "      <td>Piffard</td>\n",
       "      <td>NY</td>\n",
       "      <td>Livingston</td>\n",
       "      <td>34485F</td>\n",
       "      <td>United Way of Greater Rochester, Inc.</td>\n",
       "      <td>3.0</td>\n",
       "    </tr>\n",
       "    <tr>\n",
       "      <th>10021</th>\n",
       "      <td>49455</td>\n",
       "      <td>Shelby</td>\n",
       "      <td>MI</td>\n",
       "      <td>Oceana</td>\n",
       "      <td>24361F</td>\n",
       "      <td>United Way of the Lakeshore - Oceana County</td>\n",
       "      <td>6.0</td>\n",
       "    </tr>\n",
       "    <tr>\n",
       "      <th>9087</th>\n",
       "      <td>46206</td>\n",
       "      <td>Indianapolis</td>\n",
       "      <td>IN</td>\n",
       "      <td>Marion</td>\n",
       "      <td>16340F</td>\n",
       "      <td>United Way of Central Indiana</td>\n",
       "      <td>2.0</td>\n",
       "    </tr>\n",
       "    <tr>\n",
       "      <th>4351</th>\n",
       "      <td>23086</td>\n",
       "      <td>King William</td>\n",
       "      <td>VA</td>\n",
       "      <td>King William</td>\n",
       "      <td>50325U</td>\n",
       "      <td>United Way of the Virginia Peninsula</td>\n",
       "      <td>1.0</td>\n",
       "    </tr>\n",
       "    <tr>\n",
       "      <th>3319</th>\n",
       "      <td>17063</td>\n",
       "      <td>Milroy</td>\n",
       "      <td>PA</td>\n",
       "      <td>Mifflin</td>\n",
       "      <td>40295F</td>\n",
       "      <td>United Way of Mifflin-Juniata</td>\n",
       "      <td>1.0</td>\n",
       "    </tr>\n",
       "    <tr>\n",
       "      <th>4652</th>\n",
       "      <td>24931</td>\n",
       "      <td>Crawley</td>\n",
       "      <td>WV</td>\n",
       "      <td>Greenbrier</td>\n",
       "      <td>52116F</td>\n",
       "      <td>United Way of Greenbrier Valley</td>\n",
       "      <td>1.0</td>\n",
       "    </tr>\n",
       "    <tr>\n",
       "      <th>11877</th>\n",
       "      <td>62708</td>\n",
       "      <td>Springfield</td>\n",
       "      <td>IL</td>\n",
       "      <td>Sangamon</td>\n",
       "      <td>15480U</td>\n",
       "      <td>The United Way of Central Illinois, Inc.</td>\n",
       "      <td>1.0</td>\n",
       "    </tr>\n",
       "    <tr>\n",
       "      <th>8270</th>\n",
       "      <td>42086</td>\n",
       "      <td>West Paducah</td>\n",
       "      <td>KY</td>\n",
       "      <td>McCracken</td>\n",
       "      <td>19180F</td>\n",
       "      <td>United Way of Paducah-McCracken County</td>\n",
       "      <td>1.0</td>\n",
       "    </tr>\n",
       "    <tr>\n",
       "      <th>17754</th>\n",
       "      <td>99004</td>\n",
       "      <td>Cheney</td>\n",
       "      <td>WA</td>\n",
       "      <td>Spokane</td>\n",
       "      <td>51170U</td>\n",
       "      <td>Spokane County United Way</td>\n",
       "      <td>10.0</td>\n",
       "    </tr>\n",
       "  </tbody>\n",
       "</table>\n",
       "</div>"
      ],
      "text/plain": [
       "         Zip           City State                County  Org ID  \\\n",
       "9659   48375           Novi    MI               Oakland  24125F   \n",
       "9272   46978   Royal Center    IN                  Cass  16450F   \n",
       "15717  89436         Sparks    NV                Washoe  30020F   \n",
       "3897   20019     Washington    DC  District of Columbia  10001F   \n",
       "11109  56501  Detroit Lakes    MN                Becker  25180F   \n",
       "10641  54623    Coon Valley    WI                Vernon  53195U   \n",
       "2776   14533        Piffard    NY            Livingston  34485F   \n",
       "10021  49455         Shelby    MI                Oceana  24361F   \n",
       "9087   46206   Indianapolis    IN                Marion  16340F   \n",
       "4351   23086   King William    VA          King William  50325U   \n",
       "3319   17063         Milroy    PA               Mifflin  40295F   \n",
       "4652   24931        Crawley    WV            Greenbrier  52116F   \n",
       "11877  62708    Springfield    IL              Sangamon  15480U   \n",
       "8270   42086   West Paducah    KY             McCracken  19180F   \n",
       "17754  99004         Cheney    WA               Spokane  51170U   \n",
       "\n",
       "                                         United Way  #e-filed returns  \n",
       "9659           United Way for Southeastern Michigan               8.0  \n",
       "9272                United Way of Cass County, Inc.               4.0  \n",
       "15717  United Way of Northern Nevada and the Sierra               4.0  \n",
       "3897        United Way of the National Capital Area              29.0  \n",
       "11109                   United Way of Becker County               8.0  \n",
       "10641                 Great Rivers United Way, Inc.               5.0  \n",
       "2776          United Way of Greater Rochester, Inc.               3.0  \n",
       "10021   United Way of the Lakeshore - Oceana County               6.0  \n",
       "9087                  United Way of Central Indiana               2.0  \n",
       "4351           United Way of the Virginia Peninsula               1.0  \n",
       "3319                  United Way of Mifflin-Juniata               1.0  \n",
       "4652                United Way of Greenbrier Valley               1.0  \n",
       "11877      The United Way of Central Illinois, Inc.               1.0  \n",
       "8270         United Way of Paducah-McCracken County               1.0  \n",
       "17754                     Spokane County United Way              10.0  "
      ]
     },
     "execution_count": 8,
     "metadata": {},
     "output_type": "execute_result"
    }
   ],
   "source": [
    "mft_df.sample(15)"
   ]
  }
 ],
 "metadata": {
  "kernelspec": {
   "display_name": "Python 3 (ipykernel)",
   "language": "python",
   "name": "python3"
  },
  "language_info": {
   "codemirror_mode": {
    "name": "ipython",
    "version": 3
   },
   "file_extension": ".py",
   "mimetype": "text/x-python",
   "name": "python",
   "nbconvert_exporter": "python",
   "pygments_lexer": "ipython3",
   "version": "3.9.10"
  }
 },
 "nbformat": 4,
 "nbformat_minor": 5
}
