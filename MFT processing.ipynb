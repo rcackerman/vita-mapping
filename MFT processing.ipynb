{
 "cells": [
  {
   "cell_type": "code",
   "execution_count": 1,
   "id": "0c4cf266",
   "metadata": {},
   "outputs": [],
   "source": [
    "import pandas as pd"
   ]
  },
  {
   "cell_type": "markdown",
   "id": "566e17e9",
   "metadata": {},
   "source": [
    "## Importing MFT data"
   ]
  },
  {
   "cell_type": "code",
   "execution_count": 2,
   "id": "ba333ce2",
   "metadata": {},
   "outputs": [],
   "source": [
    "raw_mft_df = pd.read_excel(\"./data/MFT Returns by Zip 2019.xlsx\", dtype={'Zip': object})"
   ]
  },
  {
   "cell_type": "code",
   "execution_count": 3,
   "id": "07b0129a",
   "metadata": {
    "scrolled": true
   },
   "outputs": [
    {
     "data": {
      "text/plain": [
       "Index(['Zip', 'City', 'State', 'County', 'Org ID', 'United Way',\n",
       "       '#e-filed returns', '#EITC returns', 'Average EITC Amount',\n",
       "       'Average Refund Amount', 'Average Age'],\n",
       "      dtype='object')"
      ]
     },
     "execution_count": 3,
     "metadata": {},
     "output_type": "execute_result"
    }
   ],
   "source": [
    "raw_mft_df.columns"
   ]
  },
  {
   "cell_type": "markdown",
   "id": "ddfb95b3",
   "metadata": {},
   "source": [
    "#### Dropping columns with sensistive data"
   ]
  },
  {
   "cell_type": "code",
   "execution_count": 4,
   "id": "0bd9c48c",
   "metadata": {},
   "outputs": [],
   "source": [
    "raw_mft_df.drop(axis='columns',\n",
    "                labels=['#EITC returns', 'Average EITC Amount', 'Average Refund Amount', 'Average Age'],\n",
    "                inplace=True)"
   ]
  },
  {
   "cell_type": "markdown",
   "id": "374f344e",
   "metadata": {},
   "source": [
    "#### Dropping unprocessable rows"
   ]
  },
  {
   "cell_type": "code",
   "execution_count": 5,
   "id": "7c8d1dff",
   "metadata": {},
   "outputs": [
    {
     "name": "stdout",
     "output_type": "stream",
     "text": [
      "3619\n",
      "125545\n"
     ]
    }
   ],
   "source": [
    "print(raw_mft_df[pd.isnull(raw_mft_df['United Way'])].size); print(raw_mft_df.size)"
   ]
  },
  {
   "cell_type": "markdown",
   "id": "9186514f",
   "metadata": {},
   "source": [
    "Dropping any row that has a letter in the zip code or doesn't have an associated United Way. Because we will be filling unmatched zip codes with the closest zip code served by the same United Way, we can't use rows without a United Way. Luckily, the rows without a United Way appear to mostly be the rows with nonexistent or malformed zip codes.\n",
    "\n",
    "This removes 3,619 rows from the data set, out of 125,545 total rows."
   ]
  },
  {
   "cell_type": "code",
   "execution_count": 6,
   "id": "8a7daeab",
   "metadata": {},
   "outputs": [],
   "source": [
    "mft_df = raw_mft_df[~raw_mft_df.Zip.str.match(\"[a-zA-Z]\") & ~pd.isnull(raw_mft_df['United Way'])].copy()"
   ]
  },
  {
   "cell_type": "code",
   "execution_count": 7,
   "id": "e1117e5f",
   "metadata": {},
   "outputs": [],
   "source": [
    "mft_df.to_csv(\"./data/mft_returns_2019.csv\", index=False)"
   ]
  },
  {
   "cell_type": "code",
   "execution_count": 8,
   "id": "0f67f8e8",
   "metadata": {
    "scrolled": true
   },
   "outputs": [
    {
     "data": {
      "text/html": [
       "<div>\n",
       "<style scoped>\n",
       "    .dataframe tbody tr th:only-of-type {\n",
       "        vertical-align: middle;\n",
       "    }\n",
       "\n",
       "    .dataframe tbody tr th {\n",
       "        vertical-align: top;\n",
       "    }\n",
       "\n",
       "    .dataframe thead th {\n",
       "        text-align: right;\n",
       "    }\n",
       "</style>\n",
       "<table border=\"1\" class=\"dataframe\">\n",
       "  <thead>\n",
       "    <tr style=\"text-align: right;\">\n",
       "      <th></th>\n",
       "      <th>Zip</th>\n",
       "      <th>City</th>\n",
       "      <th>State</th>\n",
       "      <th>County</th>\n",
       "      <th>Org ID</th>\n",
       "      <th>United Way</th>\n",
       "      <th>#e-filed returns</th>\n",
       "    </tr>\n",
       "  </thead>\n",
       "  <tbody>\n",
       "    <tr>\n",
       "      <th>9160</th>\n",
       "      <td>46409</td>\n",
       "      <td>Gary</td>\n",
       "      <td>IN</td>\n",
       "      <td>Lake</td>\n",
       "      <td>16290F</td>\n",
       "      <td>Lake Area United Way</td>\n",
       "      <td>1.0</td>\n",
       "    </tr>\n",
       "    <tr>\n",
       "      <th>15213</th>\n",
       "      <td>85037</td>\n",
       "      <td>Phoenix</td>\n",
       "      <td>AZ</td>\n",
       "      <td>Maricopa</td>\n",
       "      <td>03040F</td>\n",
       "      <td>Valley of the Sun United Way</td>\n",
       "      <td>46.0</td>\n",
       "    </tr>\n",
       "    <tr>\n",
       "      <th>8307</th>\n",
       "      <td>42330</td>\n",
       "      <td>Central City</td>\n",
       "      <td>KY</td>\n",
       "      <td>Muhlenberg</td>\n",
       "      <td>19115F</td>\n",
       "      <td>United Way of the Coalfield, Inc.</td>\n",
       "      <td>1.0</td>\n",
       "    </tr>\n",
       "    <tr>\n",
       "      <th>2609</th>\n",
       "      <td>13841</td>\n",
       "      <td>Smithville Flats</td>\n",
       "      <td>NY</td>\n",
       "      <td>Cortland</td>\n",
       "      <td>34400F</td>\n",
       "      <td>Chenango United Way, Inc.</td>\n",
       "      <td>1.0</td>\n",
       "    </tr>\n",
       "    <tr>\n",
       "      <th>5682</th>\n",
       "      <td>29568</td>\n",
       "      <td>Longs</td>\n",
       "      <td>SC</td>\n",
       "      <td>Horry</td>\n",
       "      <td>43145U</td>\n",
       "      <td>United Way of Horry County, Inc.</td>\n",
       "      <td>5.0</td>\n",
       "    </tr>\n",
       "    <tr>\n",
       "      <th>7722</th>\n",
       "      <td>37748</td>\n",
       "      <td>Harriman</td>\n",
       "      <td>TN</td>\n",
       "      <td>Roane</td>\n",
       "      <td>45330F</td>\n",
       "      <td>United Way of Roane County</td>\n",
       "      <td>17.0</td>\n",
       "    </tr>\n",
       "    <tr>\n",
       "      <th>10099</th>\n",
       "      <td>49709</td>\n",
       "      <td>Atlanta</td>\n",
       "      <td>MI</td>\n",
       "      <td>Montmorency</td>\n",
       "      <td>24020U</td>\n",
       "      <td>United Way of Northeast Michigan</td>\n",
       "      <td>1.0</td>\n",
       "    </tr>\n",
       "    <tr>\n",
       "      <th>5161</th>\n",
       "      <td>27909</td>\n",
       "      <td>Elizabeth City</td>\n",
       "      <td>NC</td>\n",
       "      <td>Pasquotank</td>\n",
       "      <td>35160F</td>\n",
       "      <td>Albemarle Area United Way, Inc.</td>\n",
       "      <td>9.0</td>\n",
       "    </tr>\n",
       "    <tr>\n",
       "      <th>9785</th>\n",
       "      <td>48848</td>\n",
       "      <td>Laingsburg</td>\n",
       "      <td>MI</td>\n",
       "      <td>Shiawassee</td>\n",
       "      <td>24390F</td>\n",
       "      <td>United Way of Genesee County (Shiawassee)</td>\n",
       "      <td>6.0</td>\n",
       "    </tr>\n",
       "    <tr>\n",
       "      <th>16476</th>\n",
       "      <td>93421</td>\n",
       "      <td>Arroyo Grande</td>\n",
       "      <td>CA</td>\n",
       "      <td>San Luis Obispo</td>\n",
       "      <td>05420F</td>\n",
       "      <td>United Way of San Luis Obispo County</td>\n",
       "      <td>7.0</td>\n",
       "    </tr>\n",
       "    <tr>\n",
       "      <th>1538</th>\n",
       "      <td>08225</td>\n",
       "      <td>Northfield</td>\n",
       "      <td>NJ</td>\n",
       "      <td>Atlantic</td>\n",
       "      <td>40405F</td>\n",
       "      <td>United Way of Greater Philadelphia and Souther...</td>\n",
       "      <td>2.0</td>\n",
       "    </tr>\n",
       "    <tr>\n",
       "      <th>7888</th>\n",
       "      <td>38801</td>\n",
       "      <td>Tupelo</td>\n",
       "      <td>MS</td>\n",
       "      <td>Lee</td>\n",
       "      <td>26240F</td>\n",
       "      <td>United Way of Northeast Mississippi</td>\n",
       "      <td>3.0</td>\n",
       "    </tr>\n",
       "    <tr>\n",
       "      <th>1780</th>\n",
       "      <td>10507</td>\n",
       "      <td>Bedford Hills</td>\n",
       "      <td>NY</td>\n",
       "      <td>Westchester</td>\n",
       "      <td>34645F</td>\n",
       "      <td>United Way of Westchester and Putnam, Inc.</td>\n",
       "      <td>2.0</td>\n",
       "    </tr>\n",
       "    <tr>\n",
       "      <th>11495</th>\n",
       "      <td>60450</td>\n",
       "      <td>Morris</td>\n",
       "      <td>IL</td>\n",
       "      <td>Grundy</td>\n",
       "      <td>15355F</td>\n",
       "      <td>United Way of Grundy County</td>\n",
       "      <td>2.0</td>\n",
       "    </tr>\n",
       "    <tr>\n",
       "      <th>11289</th>\n",
       "      <td>59722</td>\n",
       "      <td>Deer Lodge</td>\n",
       "      <td>MT</td>\n",
       "      <td>Powell</td>\n",
       "      <td>28010F</td>\n",
       "      <td>United Way of Butte and Anaconda</td>\n",
       "      <td>1.0</td>\n",
       "    </tr>\n",
       "  </tbody>\n",
       "</table>\n",
       "</div>"
      ],
      "text/plain": [
       "         Zip              City State           County  Org ID  \\\n",
       "9160   46409              Gary    IN             Lake  16290F   \n",
       "15213  85037           Phoenix    AZ         Maricopa  03040F   \n",
       "8307   42330      Central City    KY       Muhlenberg  19115F   \n",
       "2609   13841  Smithville Flats    NY         Cortland  34400F   \n",
       "5682   29568             Longs    SC            Horry  43145U   \n",
       "7722   37748          Harriman    TN            Roane  45330F   \n",
       "10099  49709           Atlanta    MI      Montmorency  24020U   \n",
       "5161   27909    Elizabeth City    NC       Pasquotank  35160F   \n",
       "9785   48848        Laingsburg    MI       Shiawassee  24390F   \n",
       "16476  93421     Arroyo Grande    CA  San Luis Obispo  05420F   \n",
       "1538   08225        Northfield    NJ         Atlantic  40405F   \n",
       "7888   38801            Tupelo    MS              Lee  26240F   \n",
       "1780   10507     Bedford Hills    NY      Westchester  34645F   \n",
       "11495  60450            Morris    IL           Grundy  15355F   \n",
       "11289  59722        Deer Lodge    MT           Powell  28010F   \n",
       "\n",
       "                                              United Way  #e-filed returns  \n",
       "9160                                Lake Area United Way               1.0  \n",
       "15213                       Valley of the Sun United Way              46.0  \n",
       "8307                   United Way of the Coalfield, Inc.               1.0  \n",
       "2609                           Chenango United Way, Inc.               1.0  \n",
       "5682                    United Way of Horry County, Inc.               5.0  \n",
       "7722                          United Way of Roane County              17.0  \n",
       "10099                   United Way of Northeast Michigan               1.0  \n",
       "5161                     Albemarle Area United Way, Inc.               9.0  \n",
       "9785           United Way of Genesee County (Shiawassee)               6.0  \n",
       "16476               United Way of San Luis Obispo County               7.0  \n",
       "1538   United Way of Greater Philadelphia and Souther...               2.0  \n",
       "7888                 United Way of Northeast Mississippi               3.0  \n",
       "1780          United Way of Westchester and Putnam, Inc.               2.0  \n",
       "11495                        United Way of Grundy County               2.0  \n",
       "11289                   United Way of Butte and Anaconda               1.0  "
      ]
     },
     "execution_count": 8,
     "metadata": {},
     "output_type": "execute_result"
    }
   ],
   "source": [
    "mft_df.sample(15)"
   ]
  }
 ],
 "metadata": {
  "kernelspec": {
   "display_name": "Python 3 (ipykernel)",
   "language": "python",
   "name": "python3"
  },
  "language_info": {
   "codemirror_mode": {
    "name": "ipython",
    "version": 3
   },
   "file_extension": ".py",
   "mimetype": "text/x-python",
   "name": "python",
   "nbconvert_exporter": "python",
   "pygments_lexer": "ipython3",
   "version": "3.9.10"
  }
 },
 "nbformat": 4,
 "nbformat_minor": 5
}
