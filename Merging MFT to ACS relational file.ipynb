{
 "cells": [
  {
   "cell_type": "code",
   "execution_count": 1,
   "id": "0c4cf266",
   "metadata": {},
   "outputs": [],
   "source": [
    "import pandas as pd"
   ]
  },
  {
   "cell_type": "markdown",
   "id": "494f630e",
   "metadata": {},
   "source": [
    "### Merging ACS and MFT data\n",
    "\n",
    "In order to merge the MFT data (recorded at the zipcode level) with the IRS/ACS data (recorded at the county level), it is necessary to get convert from zip code to county as the summary level. To do this, we will use the Census' [zipcode to county relationship file](https://www.census.gov/geographies/reference-files/time-series/geo/relationship-files.2010.html)."
   ]
  },
  {
   "cell_type": "code",
   "execution_count": 2,
   "id": "d26d05cd",
   "metadata": {},
   "outputs": [],
   "source": [
    "mft_df = pd.read_csv(\"./data/mft_returns_2019.csv\", dtype={'Zip': object})\n",
    "census_rel_df = pd.read_csv(\"./data/zcta_county_rel_10.csv\", dtype={'ZCTA5': 'object'})"
   ]
  },
  {
   "cell_type": "markdown",
   "id": "0e0e17a2",
   "metadata": {},
   "source": [
    "Right outer merge will get all rows from the MFT dataset and any rows from the ACS dataset that match."
   ]
  },
  {
   "cell_type": "code",
   "execution_count": 3,
   "id": "c778b69c",
   "metadata": {},
   "outputs": [],
   "source": [
    "merged = pd.merge(census_rel_df, mft_df, how=\"outer\", left_on=\"ZCTA5\", right_on=\"Zip\")"
   ]
  },
  {
   "cell_type": "markdown",
   "id": "3d35dc2e",
   "metadata": {},
   "source": [
    "Sorting on zip because we'll be filling missing zip codes with their neighbors."
   ]
  },
  {
   "cell_type": "code",
   "execution_count": 4,
   "id": "3e8ab895",
   "metadata": {},
   "outputs": [],
   "source": [
    "merged = merged.sort_values('Zip')"
   ]
  },
  {
   "cell_type": "markdown",
   "id": "c76f03a5",
   "metadata": {},
   "source": [
    "Forward filling missing zip codes. I.e. if we have two rows like\n",
    "\n",
    "row#  | Zip     | United Way\n",
    ":----|:--------|:----\n",
    "1    | 48103   | United Way of Washtenaw County\n",
    "2    | NA      | United Way of Washtenaw County\n",
    "\n",
    "then the NA will become 48103. We're only filling within the same United Way, to make sure the nearest zip code isn't geographically super far away."
   ]
  },
  {
   "cell_type": "code",
   "execution_count": 5,
   "id": "665b47b8",
   "metadata": {},
   "outputs": [],
   "source": [
    "merged[\"filled_zip\"] = merged.groupby('United Way') \\\n",
    "                             .apply(lambda group: group['ZCTA5'].fillna(method='ffill').fillna(method='bfill')) \\\n",
    "                             .reset_index(level=0, drop=\"True\")"
   ]
  },
  {
   "cell_type": "markdown",
   "id": "89d38c44",
   "metadata": {},
   "source": [
    "Creating a list of zip codes to use for spot checking."
   ]
  },
  {
   "cell_type": "code",
   "execution_count": 6,
   "id": "ddd0d133",
   "metadata": {},
   "outputs": [],
   "source": [
    "sample_zips = merged['filled_zip'].dropna().sample(5)"
   ]
  },
  {
   "cell_type": "code",
   "execution_count": 7,
   "id": "27db2a03",
   "metadata": {},
   "outputs": [],
   "source": [
    "# sorting by ZIP instead of Zip makes sure we have the ACS row first\n",
    "# we don't need anything but the zip code, because we'll be joining this to the rel file again\n",
    "acs_mft_df = merged.sort_values('ZCTA5') \\\n",
    "                    .groupby('filled_zip') \\\n",
    "                    .agg({'ZCTA5': 'first', \n",
    "                          'City': 'first',\n",
    "                          'State': 'first',\n",
    "                          'County': 'first',\n",
    "                          'Org ID': 'first',\n",
    "                          'United Way': 'first',\n",
    "                          '#e-filed returns': 'sum'}) \\\n",
    "                     .reset_index(drop=\"True\")"
   ]
  },
  {
   "cell_type": "markdown",
   "id": "3527adb5",
   "metadata": {},
   "source": [
    "Spot-checking that the e-filed return numbers correctly aggregated."
   ]
  },
  {
   "cell_type": "code",
   "execution_count": 8,
   "id": "58f32512",
   "metadata": {},
   "outputs": [
    {
     "data": {
      "text/html": [
       "<div>\n",
       "<style scoped>\n",
       "    .dataframe tbody tr th:only-of-type {\n",
       "        vertical-align: middle;\n",
       "    }\n",
       "\n",
       "    .dataframe tbody tr th {\n",
       "        vertical-align: top;\n",
       "    }\n",
       "\n",
       "    .dataframe thead th {\n",
       "        text-align: right;\n",
       "    }\n",
       "</style>\n",
       "<table border=\"1\" class=\"dataframe\">\n",
       "  <thead>\n",
       "    <tr style=\"text-align: right;\">\n",
       "      <th></th>\n",
       "      <th>#e-filed returns</th>\n",
       "    </tr>\n",
       "    <tr>\n",
       "      <th>filled_zip</th>\n",
       "      <th></th>\n",
       "    </tr>\n",
       "  </thead>\n",
       "  <tbody>\n",
       "    <tr>\n",
       "      <th>10570</th>\n",
       "      <td>1.0</td>\n",
       "    </tr>\n",
       "    <tr>\n",
       "      <th>12062</th>\n",
       "      <td>4.0</td>\n",
       "    </tr>\n",
       "    <tr>\n",
       "      <th>28206</th>\n",
       "      <td>12.0</td>\n",
       "    </tr>\n",
       "    <tr>\n",
       "      <th>48662</th>\n",
       "      <td>2.0</td>\n",
       "    </tr>\n",
       "    <tr>\n",
       "      <th>49323</th>\n",
       "      <td>6.0</td>\n",
       "    </tr>\n",
       "  </tbody>\n",
       "</table>\n",
       "</div>"
      ],
      "text/plain": [
       "            #e-filed returns\n",
       "filled_zip                  \n",
       "10570                    1.0\n",
       "12062                    4.0\n",
       "28206                   12.0\n",
       "48662                    2.0\n",
       "49323                    6.0"
      ]
     },
     "execution_count": 8,
     "metadata": {},
     "output_type": "execute_result"
    }
   ],
   "source": [
    "merged[merged.filled_zip.isin(sample_zips)].groupby('filled_zip').agg({'#e-filed returns': 'sum'})"
   ]
  },
  {
   "cell_type": "code",
   "execution_count": 9,
   "id": "ee14ee81",
   "metadata": {},
   "outputs": [
    {
     "data": {
      "text/html": [
       "<div>\n",
       "<style scoped>\n",
       "    .dataframe tbody tr th:only-of-type {\n",
       "        vertical-align: middle;\n",
       "    }\n",
       "\n",
       "    .dataframe tbody tr th {\n",
       "        vertical-align: top;\n",
       "    }\n",
       "\n",
       "    .dataframe thead th {\n",
       "        text-align: right;\n",
       "    }\n",
       "</style>\n",
       "<table border=\"1\" class=\"dataframe\">\n",
       "  <thead>\n",
       "    <tr style=\"text-align: right;\">\n",
       "      <th></th>\n",
       "      <th>ZCTA5</th>\n",
       "      <th>City</th>\n",
       "      <th>State</th>\n",
       "      <th>County</th>\n",
       "      <th>Org ID</th>\n",
       "      <th>United Way</th>\n",
       "      <th>#e-filed returns</th>\n",
       "    </tr>\n",
       "  </thead>\n",
       "  <tbody>\n",
       "    <tr>\n",
       "      <th>1613</th>\n",
       "      <td>10570</td>\n",
       "      <td>Pleasantville</td>\n",
       "      <td>NY</td>\n",
       "      <td>Westchester</td>\n",
       "      <td>34645F</td>\n",
       "      <td>United Way of Westchester and Putnam, Inc.</td>\n",
       "      <td>1.0</td>\n",
       "    </tr>\n",
       "    <tr>\n",
       "      <th>1908</th>\n",
       "      <td>12062</td>\n",
       "      <td>East Nassau</td>\n",
       "      <td>NY</td>\n",
       "      <td>Rensselaer</td>\n",
       "      <td>34540F</td>\n",
       "      <td>United Way of the Greater Capital Region</td>\n",
       "      <td>4.0</td>\n",
       "    </tr>\n",
       "    <tr>\n",
       "      <th>4861</th>\n",
       "      <td>28206</td>\n",
       "      <td>Charlotte</td>\n",
       "      <td>NC</td>\n",
       "      <td>Mecklenburg</td>\n",
       "      <td>35110U</td>\n",
       "      <td>United Way of Central Carolinas, Inc.</td>\n",
       "      <td>12.0</td>\n",
       "    </tr>\n",
       "    <tr>\n",
       "      <th>8892</th>\n",
       "      <td>48662</td>\n",
       "      <td>Wheeler</td>\n",
       "      <td>MI</td>\n",
       "      <td>Gratiot</td>\n",
       "      <td>24355F</td>\n",
       "      <td>United Way of Gratiot and Isabella Counties, Inc.</td>\n",
       "      <td>2.0</td>\n",
       "    </tr>\n",
       "    <tr>\n",
       "      <th>9107</th>\n",
       "      <td>49323</td>\n",
       "      <td>Dorr</td>\n",
       "      <td>MI</td>\n",
       "      <td>Allegan</td>\n",
       "      <td>24010F</td>\n",
       "      <td>Allegan County United Way</td>\n",
       "      <td>6.0</td>\n",
       "    </tr>\n",
       "  </tbody>\n",
       "</table>\n",
       "</div>"
      ],
      "text/plain": [
       "      ZCTA5           City State       County  Org ID  \\\n",
       "1613  10570  Pleasantville    NY  Westchester  34645F   \n",
       "1908  12062    East Nassau    NY   Rensselaer  34540F   \n",
       "4861  28206      Charlotte    NC  Mecklenburg  35110U   \n",
       "8892  48662        Wheeler    MI      Gratiot  24355F   \n",
       "9107  49323           Dorr    MI      Allegan  24010F   \n",
       "\n",
       "                                             United Way  #e-filed returns  \n",
       "1613         United Way of Westchester and Putnam, Inc.               1.0  \n",
       "1908           United Way of the Greater Capital Region               4.0  \n",
       "4861              United Way of Central Carolinas, Inc.              12.0  \n",
       "8892  United Way of Gratiot and Isabella Counties, Inc.               2.0  \n",
       "9107                          Allegan County United Way               6.0  "
      ]
     },
     "execution_count": 9,
     "metadata": {},
     "output_type": "execute_result"
    }
   ],
   "source": [
    "acs_mft_df[acs_mft_df.ZCTA5.isin(sample_zips)]"
   ]
  },
  {
   "cell_type": "code",
   "execution_count": 11,
   "id": "f68a4ebf",
   "metadata": {},
   "outputs": [],
   "source": [
    "acs_mft_df.to_csv(\"./data/mft_county_rel.csv\", index=False)"
   ]
  }
 ],
 "metadata": {
  "kernelspec": {
   "display_name": "Python 3 (ipykernel)",
   "language": "python",
   "name": "python3"
  },
  "language_info": {
   "codemirror_mode": {
    "name": "ipython",
    "version": 3
   },
   "file_extension": ".py",
   "mimetype": "text/x-python",
   "name": "python",
   "nbconvert_exporter": "python",
   "pygments_lexer": "ipython3",
   "version": "3.9.10"
  }
 },
 "nbformat": 4,
 "nbformat_minor": 5
}
